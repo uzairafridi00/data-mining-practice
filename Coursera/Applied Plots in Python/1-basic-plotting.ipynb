{
 "cells": [
  {
   "cell_type": "markdown",
   "metadata": {},
   "source": [
    "# Basic Plotting with matplotlib"
   ]
  },
  {
   "cell_type": "markdown",
   "metadata": {},
   "source": [
    "Now in previous versions of matplotlib we would use a backend specific for Jupyter called `nbagg`. But things have changed, and now we use an inline backend engine. Now, you don't really need to know the details of this, but it's helpful to know that you can investigate if you want to. Let's import matplotlib and check which backend we will be using."
   ]
  },
  {
   "cell_type": "code",
   "execution_count": null,
   "metadata": {},
   "outputs": [],
   "source": [
    "import matplotlib as mpl\n",
    "mpl.get_backend()"
   ]
  },
  {
   "cell_type": "markdown",
   "metadata": {},
   "source": [
    "Ok, we're going to start our plotting journey by making a graph using the `plot` function. A plot has two axes, an x-axis along the horizon, and a y-axis which runs vertically.\n",
    "\n",
    "First, let's import the pyplot scripting layer as `plt`. All of the functions which will run against the Pyplot module are part of the scripting layer of the architecture. Let's take a look at the plot function by looking at the docstring."
   ]
  },
  {
   "cell_type": "code",
   "execution_count": null,
   "metadata": {},
   "outputs": [],
   "source": [
    "import matplotlib.pyplot as plt\n",
    "plt.plot?"
   ]
  },
  {
   "cell_type": "markdown",
   "metadata": {},
   "source": [
    "Ok, that's a lot of documentation! If you're not used to seeing it, this Python function declaration with two arguments, the star args, and the double star kwargs can be a bit obscure. What's being said here by the star args is that the function supports any number of unnamed arguments. The double star keyword args also means that it supports any number of named arguments. This makes the function declaration very flexible since you can pass in basically any number of arguments, named or not, but it makes it difficult to know what is an appropriate argument. Reading on, we see that the arguments will be interpreted as x, y pairs."
   ]
  },
  {
   "cell_type": "code",
   "execution_count": null,
   "metadata": {},
   "outputs": [],
   "source": [
    "# So let's try with just one data point at position 3,2. The return value is \n",
    "# the plot itself, and JupyterLab will call display automatically on this to\n",
    "# render it in the notebook.\n",
    "plt.plot(3, 2)"
   ]
  },
  {
   "cell_type": "markdown",
   "metadata": {},
   "source": [
    "We don't see the data points though, which is a bit odd. It turns out that the third argument to `plot` should be a string which signifies how we want that data point to be rendered. Let's use a period for a dot, and we'll see that our data point shows up."
   ]
  },
  {
   "cell_type": "code",
   "execution_count": null,
   "metadata": {},
   "outputs": [],
   "source": [
    "# The docs tell us what the different characters will render like, here we're just going\n",
    "# to use a full stop for the marker\n",
    "plt.plot(3, 2, '.')"
   ]
  },
  {
   "cell_type": "markdown",
   "metadata": {},
   "source": [
    "You'll notice that the subsequent calls to plot have not updated our previous visualization. The backend we are using is not interactive, so subsequent calls create new plots as new cells in the notebook, and this is a handy way to iteratively explore your data."
   ]
  },
  {
   "cell_type": "markdown",
   "metadata": {},
   "source": [
    "Here's where some of the confusion with matplotlib as a library tends to come from. In the last lecture, I explained that there's an Artist layer, and that it is figures with subplots and axes and data points, which are rendered as patches onto these axes, but we haven't seen any of that here. Instead, we just called one function on a module named plot, so what's going on? The pyplot scripting interface is managing a lot of objects for you. It keeps track of the latest figure of subplots, and of the axis objects. Moreover, it actually hides some of these behind methods of its own. So the pyplot module itself has a function which is called plot, but it redirects calls to this function to the current axes object. This makes for a significant learning curve, and you'll see many discussions in web tutorials, and Stack Overflow, where people are confused by these two different approaches to making figures show up.\n",
    "\n",
    "In data science workflows I think it's much more common to use the scripting layer, like we just did. But it's worth it to take a look at a the alternative object approach that's a bit more verbose. Actually, while some would call it the matplotlib object API, I think it's more accurate to think of it as directly interfacing with the Artist layer instead. "
   ]
  },
  {
   "cell_type": "code",
   "execution_count": null,
   "metadata": {},
   "outputs": [],
   "source": [
    "# First, I'm going to import a new backend called FigureCanvasAgg.\n",
    "from matplotlib.backends.backend_agg import FigureCanvasAgg\n",
    "# Now we'll bring in the figure object\n",
    "from matplotlib.figure import Figure\n",
    "\n",
    "# I'll create a new empty figure\n",
    "fig = Figure()\n",
    "\n",
    "# And then associate this figure with the canvas backend\n",
    "canvas = FigureCanvasAgg(fig)\n",
    "\n",
    "# We can then add a subplot directly to this. We're going to talk more about subplots in a future \n",
    "# lecture, but this number 111 actually means that we just want one plot. The return value for the \n",
    "# subplot is the Axes object, which contains methods for plotting\n",
    "ax = fig.add_subplot(111)\n",
    "\n",
    "# Now we can plot on the Axes as per usual\n",
    "ax.plot(3, 2, '.')\n",
    "\n",
    "# We have a figure now, but out backend isn't able to render this directly inside of JupyterLab.\n",
    "# So here I'll just save the figure to a png file instead.\n",
    "canvas.print_png('test.png')"
   ]
  },
  {
   "cell_type": "markdown",
   "metadata": {},
   "source": [
    "Then, we'll do a quick HTML cell magic, and execute that and see the rendered image. That's a lot more work than using the scripting layer, but you can see the effect is the same."
   ]
  },
  {
   "cell_type": "code",
   "execution_count": null,
   "metadata": {},
   "outputs": [],
   "source": [
    "%%html\n",
    "<img src='test.png' />"
   ]
  },
  {
   "cell_type": "markdown",
   "metadata": {},
   "source": [
    "It's important to note though that the scripting layer isn't magic, it's just doing some of the behind the scenes work for us. For instance, when we make a call to pyplots `plot`, the scripting layer actually looks to see if there's a figure that currently exists, and if not, it creates a new one. It then returns the `Axes` for this figure.\n",
    "\n",
    "We don't have to store that though, because we can always get access to the current `Figure` object using the `gcf` function, which stands for \"get current figure\". Similarly, we have another functions called `gca` -- \"get current axes\" -- which will return to us the current axes to render upon.\n",
    "\n",
    "Let's create a new figure with pyplot, grab the axes, and set the x and y limits."
   ]
  },
  {
   "cell_type": "code",
   "execution_count": null,
   "metadata": {},
   "outputs": [],
   "source": [
    "# Just create a figure as we previously did\n",
    "plt.figure()\n",
    "\n",
    "# Plot the point (3,2) -- this time I'll use the circle marker\n",
    "plt.plot(3, 2, 'o')\n",
    "\n",
    "# Get a reference to the current axes\n",
    "ax = plt.gca()\n",
    "\n",
    "# And set our axis properties. This function takes four parameters: a minimum value \n",
    "# for x which we'll put it zero, a maximum value for x which we'll put at six, and\n",
    "# minimum and maximum y values.\n",
    "ax.axis([0,6,0,10])"
   ]
  },
  {
   "cell_type": "markdown",
   "metadata": {},
   "source": [
    "All right, one more demonstration on the fundamentals of putting together a plot. You can add Artists to an axes object at any time. Pyplot is doing this for us when we call the plot function. It's determining what shape we want from the string, the location associated with that shape, that it's creating a patch object, and adding that to the axes. If we make subsequent calls to the `plot` function before we render it the data will be added as different series, and colored differently."
   ]
  },
  {
   "cell_type": "code",
   "execution_count": null,
   "metadata": {},
   "outputs": [],
   "source": [
    "# I'll create a new figure\n",
    "plt.figure()\n",
    "\n",
    "# First I'll plot point (1.5, 1.5) using the circle marker\n",
    "plt.plot(1.5, 1.5, 'o')\n",
    "\n",
    "# Then a couple more\n",
    "plt.plot(2, 2, 'o')\n",
    "plt.plot(2.5, 2.5, 'o')"
   ]
  },
  {
   "cell_type": "markdown",
   "metadata": {},
   "source": [
    "A lot of complexity is hidden from you, but we can go further with the `Axes` object, to the point where we can actually get all of the child objects that that axes contains. We do this with the axes `get_children` function. Let's take a look at what children exist in the current axes."
   ]
  },
  {
   "cell_type": "code",
   "execution_count": null,
   "metadata": {},
   "outputs": [],
   "source": [
    "# Get current axes - this will create a new figure since we're in a new cell\n",
    "ax = plt.gca()\n",
    "\n",
    "# Let's add a point\n",
    "plt.plot(1.5, 1.5, 'o')\n",
    "\n",
    "# And take a look at all of the children of the Axes object\n",
    "ax.get_children()"
   ]
  },
  {
   "cell_type": "markdown",
   "metadata": {},
   "source": [
    "Here, we can see that there's actually a `Line2D` object contained in this axes, this is our data point! We also have a number of spines which are actual renderings of the borders of the frame including tic markers, two axis objects, and a bunch of text which are the labels for the chart. There's even a rectangle which is the background for the `Axes`."
   ]
  },
  {
   "cell_type": "markdown",
   "metadata": {},
   "source": [
    "Okay, so there's a whirlwind tour of how to be productive with matplotlib and make your first chart. Now, in truth, you're not going to spend a lot of time getting individual artists or interacting with splines, probably. But you can, if you want to. The system isn't magic, and now we've walked through how you can investigate a bit to better understand what's actually happening underneath.\n",
    "\n",
    "In the next lecture, we're going to go through some of the different built-in charting options which are available to us."
   ]
  },
  {
   "cell_type": "markdown",
   "metadata": {},
   "source": [
    "___"
   ]
  },
  {
   "cell_type": "markdown",
   "metadata": {},
   "source": [
    "## Practice Code"
   ]
  },
  {
   "cell_type": "code",
   "execution_count": 1,
   "metadata": {},
   "outputs": [
    {
     "data": {
      "text/plain": [
       "'module://matplotlib_inline.backend_inline'"
      ]
     },
     "execution_count": 1,
     "metadata": {},
     "output_type": "execute_result"
    }
   ],
   "source": [
    "import matplotlib as mpl\n",
    "mpl.get_backend()"
   ]
  },
  {
   "cell_type": "code",
   "execution_count": 2,
   "metadata": {},
   "outputs": [],
   "source": [
    "# Show all the functions and work of this plot function\n",
    "# Documentation\n",
    "import matplotlib.pyplot as plt\n",
    "plt.plot?"
   ]
  },
  {
   "cell_type": "code",
   "execution_count": 3,
   "metadata": {},
   "outputs": [
    {
     "data": {
      "text/plain": [
       "[<matplotlib.lines.Line2D at 0x28e90232550>]"
      ]
     },
     "execution_count": 3,
     "metadata": {},
     "output_type": "execute_result"
    },
    {
     "data": {
      "image/png": "[encoded data removed]",
      "text/plain": [
       "<Figure size 640x480 with 1 Axes>"
      ]
     },
     "metadata": {},
     "output_type": "display_data"
    }
   ],
   "source": [
    "plt.plot(3,2)"
   ]
  },
  {
   "cell_type": "code",
   "execution_count": 4,
   "metadata": {},
   "outputs": [
    {
     "data": {
      "text/plain": [
       "[<matplotlib.lines.Line2D at 0x28e909116a0>]"
      ]
     },
     "execution_count": 4,
     "metadata": {},
     "output_type": "execute_result"
    },
    {
     "data": {
      "image/png": "[encoded data removed]",
      "text/plain": [
       "<Figure size 640x480 with 1 Axes>"
      ]
     },
     "metadata": {},
     "output_type": "display_data"
    }
   ],
   "source": [
    "plt.plot(3,2,'.')"
   ]
  },
  {
   "cell_type": "code",
   "execution_count": 5,
   "metadata": {},
   "outputs": [
    {
     "data": {
      "text/plain": [
       "[<matplotlib.lines.Line2D at 0x28e9098e0a0>]"
      ]
     },
     "execution_count": 5,
     "metadata": {},
     "output_type": "execute_result"
    },
    {
     "data": {
      "image/png": "[encoded data removed]",
      "text/plain": [
       "<Figure size 640x480 with 1 Axes>"
      ]
     },
     "metadata": {},
     "output_type": "display_data"
    }
   ],
   "source": [
    "plt.plot(3,2,'*')"
   ]
  },
  {
   "cell_type": "code",
   "execution_count": 6,
   "metadata": {},
   "outputs": [
    {
     "data": {
      "text/plain": [
       "[<matplotlib.lines.Line2D at 0x28e909f6880>]"
      ]
     },
     "execution_count": 6,
     "metadata": {},
     "output_type": "execute_result"
    },
    {
     "data": {
      "image/png": "[encoded data removed]",
      "text/plain": [
       "<Figure size 640x480 with 1 Axes>"
      ]
     },
     "metadata": {},
     "output_type": "display_data"
    }
   ],
   "source": [
    "plt.plot(3,2,'o')"
   ]
  },
  {
   "cell_type": "code",
   "execution_count": 7,
   "metadata": {},
   "outputs": [],
   "source": [
    "from matplotlib.backends.backend_agg import FigureCanvasAgg\n",
    "from matplotlib.figure import Figure\n",
    "\n",
    "fig = Figure()\n",
    "\n",
    "canvas = FigureCanvasAgg(fig)\n",
    "\n",
    "ax = fig.add_subplot(111)\n",
    "\n",
    "ax.plot(3,2,'o')\n",
    "\n",
    "canvas.print_png('test_1.png')"
   ]
  },
  {
   "cell_type": "code",
   "execution_count": 8,
   "metadata": {},
   "outputs": [
    {
     "data": {
      "text/html": [
       "<img src='test_1.png''>\n"
      ],
      "text/plain": [
       "<IPython.core.display.HTML object>"
      ]
     },
     "metadata": {},
     "output_type": "display_data"
    }
   ],
   "source": [
    "%%html\n",
    "<img src='test_1.png''>"
   ]
  },
  {
   "cell_type": "code",
   "execution_count": 10,
   "metadata": {},
   "outputs": [
    {
     "data": {
      "text/plain": [
       "(0.0, 7.0, 0.0, 7.0)"
      ]
     },
     "execution_count": 10,
     "metadata": {},
     "output_type": "execute_result"
    },
    {
     "data": {
      "image/png": "[encoded data removed]",
      "text/plain": [
       "<Figure size 640x480 with 1 Axes>"
      ]
     },
     "metadata": {},
     "output_type": "display_data"
    }
   ],
   "source": [
    "plt.figure()\n",
    "plt.plot(3,2,'*')\n",
    "ax = plt.gca()\n",
    "\n",
    "ax.axis([0,7,0,7])"
   ]
  },
  {
   "cell_type": "code",
   "execution_count": 13,
   "metadata": {},
   "outputs": [
    {
     "data": {
      "text/plain": [
       "(0.0, 10.0, 0.0, 10.0)"
      ]
     },
     "execution_count": 13,
     "metadata": {},
     "output_type": "execute_result"
    },
    {
     "data": {
      "image/png": "[encoded data removed]",
      "text/plain": [
       "<Figure size 640x480 with 1 Axes>"
      ]
     },
     "metadata": {},
     "output_type": "display_data"
    }
   ],
   "source": [
    "plt.figure()\n",
    "plt.plot(1.5,1.5,'.')\n",
    "plt.plot(2,2,'o')\n",
    "plt.plot(2.5,2.5,'*')\n",
    "ax = plt.gca()\n",
    "\n",
    "ax.axis([0,10,0,10])"
   ]
  },
  {
   "cell_type": "code",
   "execution_count": 14,
   "metadata": {},
   "outputs": [
    {
     "data": {
      "text/plain": [
       "[<matplotlib.lines.Line2D at 0x28e93c88d00>,\n",
       " <matplotlib.spines.Spine at 0x28e93a7b790>,\n",
       " <matplotlib.spines.Spine at 0x28e93a7b8b0>,\n",
       " <matplotlib.spines.Spine at 0x28e93a7b9d0>,\n",
       " <matplotlib.spines.Spine at 0x28e93a7baf0>,\n",
       " <matplotlib.axis.XAxis at 0x28e93a7b730>,\n",
       " <matplotlib.axis.YAxis at 0x28e93a7bd60>,\n",
       " Text(0.5, 1.0, ''),\n",
       " Text(0.0, 1.0, ''),\n",
       " Text(1.0, 1.0, ''),\n",
       " <matplotlib.patches.Rectangle at 0x28e93aaa6a0>]"
      ]
     },
     "execution_count": 14,
     "metadata": {},
     "output_type": "execute_result"
    },
    {
     "data": {
      "image/png": "[encoded data removed]",
      "text/plain": [
       "<Figure size 640x480 with 1 Axes>"
      ]
     },
     "metadata": {},
     "output_type": "display_data"
    }
   ],
   "source": [
    "ax = plt.gca()\n",
    "plt.plot(1.5,1.5,'o')\n",
    "ax.get_children()"
   ]
  },
  {
   "cell_type": "code",
   "execution_count": null,
   "metadata": {},
   "outputs": [],
   "source": []
  }
 ],
 "metadata": {
  "kernelspec": {
   "display_name": "Python 3 (ipykernel)",
   "language": "python",
   "name": "python3"
  },
  "language_info": {
   "codemirror_mode": {
    "name": "ipython",
    "version": 3
   },
   "file_extension": ".py",
   "mimetype": "text/x-python",
   "name": "python",
   "nbconvert_exporter": "python",
   "pygments_lexer": "ipython3",
   "version": "3.9.13"
  }
 },
 "nbformat": 4,
 "nbformat_minor": 4
}
