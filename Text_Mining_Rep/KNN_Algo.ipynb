{
 "cells": [
  {
   "cell_type": "code",
   "execution_count": 2,
   "id": "34844caf",
   "metadata": {},
   "outputs": [],
   "source": [
    "corpus = open('dataset3.txt').read()"
   ]
  },
  {
   "cell_type": "code",
   "execution_count": 3,
   "id": "e441d321",
   "metadata": {},
   "outputs": [],
   "source": [
    "docs = corpus.split('\\n')"
   ]
  },
  {
   "cell_type": "code",
   "execution_count": 5,
   "id": "be2ca812",
   "metadata": {},
   "outputs": [
    {
     "data": {
      "text/plain": [
       "'milk bread bread bread : grocery\\nbread milk milk bread : grocery\\nmilk milk milk bread bread bread bread : grocery\\ncat cat cat dog dog bark : pets\\ndog dog cat bark mew mew : pets\\ncat dog cat dog mew cat : '"
      ]
     },
     "execution_count": 5,
     "metadata": {},
     "output_type": "execute_result"
    }
   ],
   "source": [
    "corpus"
   ]
  },
  {
   "cell_type": "code",
   "execution_count": 6,
   "id": "1379319a",
   "metadata": {},
   "outputs": [
    {
     "data": {
      "text/plain": [
       "['milk bread bread bread : grocery',\n",
       " 'bread milk milk bread : grocery',\n",
       " 'milk milk milk bread bread bread bread : grocery',\n",
       " 'cat cat cat dog dog bark : pets',\n",
       " 'dog dog cat bark mew mew : pets',\n",
       " 'cat dog cat dog mew cat : ']"
      ]
     },
     "execution_count": 6,
     "metadata": {},
     "output_type": "execute_result"
    }
   ],
   "source": [
    "docs"
   ]
  },
  {
   "cell_type": "code",
   "execution_count": 8,
   "id": "df17e2e7",
   "metadata": {},
   "outputs": [],
   "source": [
    "X,Y = [], []\n",
    "for item in docs:\n",
    "    title,label = item.split(\":\")\n",
    "    X.append(title)\n",
    "    Y.append(label)"
   ]
  },
  {
   "cell_type": "code",
   "execution_count": 9,
   "id": "25cdb02b",
   "metadata": {},
   "outputs": [
    {
     "data": {
      "text/plain": [
       "['milk bread bread bread ',\n",
       " 'bread milk milk bread ',\n",
       " 'milk milk milk bread bread bread bread ',\n",
       " 'cat cat cat dog dog bark ',\n",
       " 'dog dog cat bark mew mew ',\n",
       " 'cat dog cat dog mew cat ']"
      ]
     },
     "execution_count": 9,
     "metadata": {},
     "output_type": "execute_result"
    }
   ],
   "source": [
    "X"
   ]
  },
  {
   "cell_type": "code",
   "execution_count": 10,
   "id": "3025fccc",
   "metadata": {},
   "outputs": [
    {
     "data": {
      "text/plain": [
       "[' grocery', ' grocery', ' grocery', ' pets', ' pets', ' ']"
      ]
     },
     "execution_count": 10,
     "metadata": {},
     "output_type": "execute_result"
    }
   ],
   "source": [
    "Y"
   ]
  },
  {
   "cell_type": "code",
   "execution_count": 30,
   "id": "f9e91071",
   "metadata": {},
   "outputs": [],
   "source": [
    "from sklearn.feature_extraction.text import CountVectorizer"
   ]
  },
  {
   "cell_type": "code",
   "execution_count": 31,
   "id": "3c0933dc",
   "metadata": {},
   "outputs": [],
   "source": [
    "vec = CountVectorizer()"
   ]
  },
  {
   "cell_type": "code",
   "execution_count": 42,
   "id": "9b207b88",
   "metadata": {},
   "outputs": [],
   "source": [
    "data = vec.fit_transform(X)"
   ]
  },
  {
   "cell_type": "code",
   "execution_count": 43,
   "id": "3a6ea15e",
   "metadata": {},
   "outputs": [
    {
     "data": {
      "text/plain": [
       "array([[0, 3, 0, 0, 0, 1],\n",
       "       [0, 2, 0, 0, 0, 2],\n",
       "       [0, 4, 0, 0, 0, 3],\n",
       "       [1, 0, 3, 2, 0, 0],\n",
       "       [1, 0, 1, 2, 2, 0],\n",
       "       [0, 0, 3, 2, 1, 0]], dtype=int64)"
      ]
     },
     "execution_count": 43,
     "metadata": {},
     "output_type": "execute_result"
    }
   ],
   "source": [
    "data.toarray()"
   ]
  },
  {
   "cell_type": "code",
   "execution_count": 44,
   "id": "e7213449",
   "metadata": {},
   "outputs": [
    {
     "data": {
      "text/plain": [
       "{'milk': 5, 'bread': 1, 'cat': 2, 'dog': 3, 'bark': 0, 'mew': 4}"
      ]
     },
     "execution_count": 44,
     "metadata": {},
     "output_type": "execute_result"
    }
   ],
   "source": [
    "vec.vocabulary_"
   ]
  },
  {
   "cell_type": "code",
   "execution_count": 45,
   "id": "03245a1e",
   "metadata": {},
   "outputs": [],
   "source": [
    "from sklearn.neighbors import KNeighborsClassifier"
   ]
  },
  {
   "cell_type": "code",
   "execution_count": 55,
   "id": "fa690b09",
   "metadata": {},
   "outputs": [],
   "source": [
    "# Identify the threshold \n",
    "n = KNeighborsClassifier(n_neighbors=3)"
   ]
  },
  {
   "cell_type": "code",
   "execution_count": 56,
   "id": "86ad01dc",
   "metadata": {},
   "outputs": [
    {
     "data": {
      "text/plain": [
       "KNeighborsClassifier()"
      ]
     },
     "execution_count": 56,
     "metadata": {},
     "output_type": "execute_result"
    }
   ],
   "source": [
    "n.fit(data[:5],Y[:5])"
   ]
  },
  {
   "cell_type": "code",
   "execution_count": 57,
   "id": "07a49607",
   "metadata": {},
   "outputs": [
    {
     "name": "stderr",
     "output_type": "stream",
     "text": [
      "C:\\Users\\Uzair Afridi\\anaconda3\\lib\\site-packages\\sklearn\\neighbors\\_classification.py:228: FutureWarning: Unlike other reduction functions (e.g. `skew`, `kurtosis`), the default behavior of `mode` typically preserves the axis it acts along. In SciPy 1.11.0, this behavior will change: the default value of `keepdims` will become False, the `axis` over which the statistic is taken will be eliminated, and the value None will no longer be accepted. Set `keepdims` to True or False to avoid this warning.\n",
      "  mode, _ = stats.mode(_y[neigh_ind, k], axis=1)\n"
     ]
    },
    {
     "data": {
      "text/plain": [
       "array([' grocery'], dtype='<U8')"
      ]
     },
     "execution_count": 57,
     "metadata": {},
     "output_type": "execute_result"
    }
   ],
   "source": [
    "n.predict(data[5])"
   ]
  },
  {
   "cell_type": "code",
   "execution_count": null,
   "id": "f0ef0e25",
   "metadata": {},
   "outputs": [],
   "source": []
  },
  {
   "cell_type": "code",
   "execution_count": null,
   "id": "3746c2c7",
   "metadata": {},
   "outputs": [],
   "source": []
  }
 ],
 "metadata": {
  "kernelspec": {
   "display_name": "Python 3 (ipykernel)",
   "language": "python",
   "name": "python3"
  },
  "language_info": {
   "codemirror_mode": {
    "name": "ipython",
    "version": 3
   },
   "file_extension": ".py",
   "mimetype": "text/x-python",
   "name": "python",
   "nbconvert_exporter": "python",
   "pygments_lexer": "ipython3",
   "version": "3.9.13"
  }
 },
 "nbformat": 4,
 "nbformat_minor": 5
}
