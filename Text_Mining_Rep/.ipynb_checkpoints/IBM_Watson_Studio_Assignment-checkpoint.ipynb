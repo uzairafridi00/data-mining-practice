{
 "cells": [
  {
   "cell_type": "markdown",
   "id": "c990f976",
   "metadata": {},
   "source": [
    "# My Jupyter Notebook on IBM Watson Studio"
   ]
  },
  {
   "cell_type": "markdown",
   "id": "a42dc6f9",
   "metadata": {},
   "source": [
    "## Sadiq mansoor"
   ]
  },
  {
   "cell_type": "markdown",
   "id": "571dcc80",
   "metadata": {},
   "source": [
    "*I am interested in data science because it allows me to uncover patterns and insights from large datasets, which can inform decision-making and drive innovation. Additionally, the constantly evolving nature of data science presents a unique challenge and opportunity for continuous learning and growth.*"
   ]
  },
  {
   "cell_type": "code",
   "execution_count": null,
   "id": "433b30bf",
   "metadata": {},
   "outputs": [
    {
     "name": "stdout",
     "output_type": "stream",
     "text": [
      "\n",
      "1. List all vegetables and prices\n",
      "2. Add a new vegetable and price\n",
      "3. Change the price of an existing vegetable\n",
      "4. Delete an existing vegetable and price\n",
      "5. Quit the program\n",
      "\n"
     ]
    }
   ],
   "source": [
    "import pickle\n",
    "\n",
    "def main():\n",
    "    try:\n",
    "        infile = open('vegetables.dat', 'rb')\n",
    "        vegetables = pickle.load(infile)\n",
    "        infile.close()\n",
    "    except IOError:\n",
    "        vegetables = {}\n",
    "\n",
    "    choice = 0\n",
    "    while choice != 5:\n",
    "        choice = menu()\n",
    "        if choice == 1:\n",
    "            list_vegetables(vegetables)\n",
    "        elif choice == 2:\n",
    "            add_vegetable(vegetables)\n",
    "        elif choice == 3:\n",
    "            change_price(vegetables)\n",
    "        elif choice == 4:\n",
    "            delete_vegetable(vegetables)\n",
    "        elif choice == 5:\n",
    "            save_vegetables(vegetables)\n",
    "def menu():\n",
    "    print()\n",
    "    print('1. List all vegetables and prices')\n",
    "    print('2. Add a new vegetable and price')\n",
    "    print('3. Change the price of an existing vegetable')\n",
    "    print('4. Delete an existing vegetable and price')\n",
    "    print('5. Quit the program')\n",
    "    print()\n",
    "\n",
    "    choice = int(input('Enter your choice: '))\n",
    "    while choice < 1 or choice > 5:\n",
    "        choice = int(input('Enter a valid choice: '))\n",
    "\n",
    "    return choice\n",
    "\n",
    "def list_vegetables(vegetables):\n",
    "    print()\n",
    "    print('Vegetable\\tPrice')\n",
    "    print('--------------------')\n",
    "    for vegetable in vegetables:\n",
    "        print(vegetable, '\\t\\t', vegetables[vegetable])\n",
    "\n",
    "def add_vegetable(vegetables):\n",
    "    vegetable = input('Enter the vegetable name: ')\n",
    "    price = float(input('Enter the price: '))\n",
    "    vegetables[vegetable] = price\n",
    "\n",
    "def change_price(vegetables):\n",
    "    vegetable = input('Enter the vegetable name: ')\n",
    "    if vegetable in vegetables:\n",
    "        price = float(input('Enter the new price: '))\n",
    "        vegetables[vegetable] = price\n",
    "    else:\n",
    "        print('That vegetable is not in the list.')\n",
    "\n",
    "def delete_vegetable(vegetables):\n",
    "    vegetable = input('Enter the vegetable name: ')\n",
    "    if vegetable in vegetables:\n",
    "        del vegetables[vegetable]\n",
    "    else:\n",
    "        print('That vegetable is not in the list.')\n",
    "\n",
    "def save_vegetables(vegetables):\n",
    "    outfile = open('vegetables.dat', 'wb')\n",
    "    pickle.dump(vegetables, outfile)\n",
    "    outfile.close()\n",
    "\n",
    "main()"
   ]
  },
  {
   "cell_type": "code",
   "execution_count": null,
   "id": "a5072a3a",
   "metadata": {},
   "outputs": [],
   "source": []
  }
 ],
 "metadata": {
  "kernelspec": {
   "display_name": "Python 3 (ipykernel)",
   "language": "python",
   "name": "python3"
  },
  "language_info": {
   "codemirror_mode": {
    "name": "ipython",
    "version": 3
   },
   "file_extension": ".py",
   "mimetype": "text/x-python",
   "name": "python",
   "nbconvert_exporter": "python",
   "pygments_lexer": "ipython3",
   "version": "3.9.13"
  }
 },
 "nbformat": 4,
 "nbformat_minor": 5
}
