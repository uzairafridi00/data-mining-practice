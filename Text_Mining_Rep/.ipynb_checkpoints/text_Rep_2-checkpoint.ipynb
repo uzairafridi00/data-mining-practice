{
 "cells": [
  {
   "cell_type": "code",
   "execution_count": 44,
   "id": "68dda650",
   "metadata": {},
   "outputs": [],
   "source": [
    "corpus = open('dataset_2.txt').read()"
   ]
  },
  {
   "cell_type": "code",
   "execution_count": 45,
   "id": "874d48b4",
   "metadata": {},
   "outputs": [],
   "source": [
    "docs = corpus.split('\\n')"
   ]
  },
  {
   "cell_type": "code",
   "execution_count": 46,
   "id": "cded5721",
   "metadata": {},
   "outputs": [
    {
     "data": {
      "text/plain": [
       "'this recipe is very special for cooking snacks : cooking\\nI like to cook but it usually takes longer: cooking\\nMy priorities in cooking includes pastas and soup : cooking\\nOne need to stay fit while playing professional sports: sports\\nIt is very important for sportsmen to take care of their diet: sports\\nprofessionl sports demand a lot of hardwork: sports'"
      ]
     },
     "execution_count": 46,
     "metadata": {},
     "output_type": "execute_result"
    }
   ],
   "source": [
    "corpus"
   ]
  },
  {
   "cell_type": "code",
   "execution_count": 58,
   "id": "12575325",
   "metadata": {},
   "outputs": [
    {
     "data": {
      "text/plain": [
       "['this recipe is very special for cooking snacks : cooking',\n",
       " 'I like to cook but it usually takes longer: cooking',\n",
       " 'My priorities in cooking includes pastas and soup : cooking',\n",
       " 'One need to stay fit while playing professional sports: sports',\n",
       " 'It is very important for sportsmen to take care of their diet: sports',\n",
       " 'professionl sports demand a lot of hardwork: sports']"
      ]
     },
     "execution_count": 58,
     "metadata": {},
     "output_type": "execute_result"
    }
   ],
   "source": [
    "docs"
   ]
  },
  {
   "cell_type": "code",
   "execution_count": 59,
   "id": "06f45e80",
   "metadata": {},
   "outputs": [],
   "source": [
    "X,Y = [],[]\n",
    "for doc in docs:\n",
    "    text,label = doc.split(':')\n",
    "    # strip removes white spacing from both side of sentence\n",
    "    # rstrip removes white space from right side\n",
    "    # lstring from left side\n",
    "    X.append(text.strip())\n",
    "    Y.append(label)"
   ]
  },
  {
   "cell_type": "code",
   "execution_count": 49,
   "id": "eceecc4e",
   "metadata": {},
   "outputs": [
    {
     "data": {
      "text/plain": [
       "['this recipe is very special for cooking snacks',\n",
       " 'I like to cook but it usually takes longer',\n",
       " 'My priorities in cooking includes pastas and soup',\n",
       " 'One need to stay fit while playing professional sports',\n",
       " 'It is very important for sportsmen to take care of their diet',\n",
       " 'professionl sports demand a lot of hardwork']"
      ]
     },
     "execution_count": 49,
     "metadata": {},
     "output_type": "execute_result"
    }
   ],
   "source": [
    "# Sentence Text\n",
    "X"
   ]
  },
  {
   "cell_type": "code",
   "execution_count": 50,
   "id": "682debb2",
   "metadata": {},
   "outputs": [
    {
     "data": {
      "text/plain": [
       "[' cooking', ' cooking', ' cooking', ' sports', ' sports', ' sports']"
      ]
     },
     "execution_count": 50,
     "metadata": {},
     "output_type": "execute_result"
    }
   ],
   "source": [
    "# Labels\n",
    "Y"
   ]
  },
  {
   "cell_type": "code",
   "execution_count": 51,
   "id": "0c338989",
   "metadata": {},
   "outputs": [],
   "source": [
    "from sklearn.feature_extraction.text import CountVectorizer"
   ]
  },
  {
   "cell_type": "code",
   "execution_count": 52,
   "id": "a0251ee8",
   "metadata": {},
   "outputs": [],
   "source": [
    "vec = CountVectorizer()"
   ]
  },
  {
   "cell_type": "code",
   "execution_count": 53,
   "id": "ad6aaf04",
   "metadata": {},
   "outputs": [],
   "source": [
    "input_X = vec.fit_transform(X) "
   ]
  },
  {
   "cell_type": "code",
   "execution_count": 54,
   "id": "63258c4a",
   "metadata": {},
   "outputs": [
    {
     "data": {
      "text/plain": [
       "<6x42 sparse matrix of type '<class 'numpy.int64'>'\n",
       "\twith 51 stored elements in Compressed Sparse Row format>"
      ]
     },
     "execution_count": 54,
     "metadata": {},
     "output_type": "execute_result"
    }
   ],
   "source": [
    "input_X"
   ]
  },
  {
   "cell_type": "code",
   "execution_count": 55,
   "id": "79912807",
   "metadata": {},
   "outputs": [
    {
     "data": {
      "text/plain": [
       "array([[0, 0, 0, 0, 1, 0, 0, 0, 1, 0, 0, 0, 0, 1, 0, 0, 0, 0, 0, 0, 0, 0,\n",
       "        0, 0, 0, 0, 0, 1, 1, 0, 1, 0, 0, 0, 0, 0, 0, 1, 0, 0, 1, 0],\n",
       "       [0, 1, 0, 1, 0, 0, 0, 0, 0, 0, 0, 0, 0, 0, 1, 1, 1, 0, 0, 0, 0, 0,\n",
       "        0, 0, 0, 0, 0, 0, 0, 0, 0, 0, 0, 0, 0, 1, 0, 0, 1, 1, 0, 0],\n",
       "       [1, 0, 0, 0, 1, 0, 0, 0, 0, 0, 0, 1, 1, 0, 0, 0, 0, 0, 1, 0, 0, 0,\n",
       "        1, 0, 1, 0, 0, 0, 0, 1, 0, 0, 0, 0, 0, 0, 0, 0, 0, 0, 0, 0],\n",
       "       [0, 0, 0, 0, 0, 0, 0, 1, 0, 0, 0, 0, 0, 0, 0, 0, 0, 0, 0, 1, 0, 1,\n",
       "        0, 1, 0, 1, 0, 0, 0, 0, 0, 1, 0, 1, 0, 0, 0, 0, 1, 0, 0, 1],\n",
       "       [0, 0, 1, 0, 0, 0, 1, 0, 1, 0, 1, 0, 0, 1, 1, 0, 0, 0, 0, 0, 1, 0,\n",
       "        0, 0, 0, 0, 0, 0, 0, 0, 0, 0, 1, 0, 1, 0, 1, 0, 1, 0, 1, 0],\n",
       "       [0, 0, 0, 0, 0, 1, 0, 0, 0, 1, 0, 0, 0, 0, 0, 0, 0, 1, 0, 0, 1, 0,\n",
       "        0, 0, 0, 0, 1, 0, 0, 0, 0, 1, 0, 0, 0, 0, 0, 0, 0, 0, 0, 0]],\n",
       "      dtype=int64)"
      ]
     },
     "execution_count": 55,
     "metadata": {},
     "output_type": "execute_result"
    }
   ],
   "source": [
    "input_X.toarray()"
   ]
  },
  {
   "cell_type": "code",
   "execution_count": 56,
   "id": "e3442704",
   "metadata": {},
   "outputs": [
    {
     "data": {
      "text/plain": [
       "['and',\n",
       " 'but',\n",
       " 'care',\n",
       " 'cook',\n",
       " 'cooking',\n",
       " 'demand',\n",
       " 'diet',\n",
       " 'fit',\n",
       " 'for',\n",
       " 'hardwork',\n",
       " 'important',\n",
       " 'in',\n",
       " 'includes',\n",
       " 'is',\n",
       " 'it',\n",
       " 'like',\n",
       " 'longer',\n",
       " 'lot',\n",
       " 'my',\n",
       " 'need',\n",
       " 'of',\n",
       " 'one',\n",
       " 'pastas',\n",
       " 'playing',\n",
       " 'priorities',\n",
       " 'professional',\n",
       " 'professionl',\n",
       " 'recipe',\n",
       " 'snacks',\n",
       " 'soup',\n",
       " 'special',\n",
       " 'sports',\n",
       " 'sportsmen',\n",
       " 'stay',\n",
       " 'take',\n",
       " 'takes',\n",
       " 'their',\n",
       " 'this',\n",
       " 'to',\n",
       " 'usually',\n",
       " 'very',\n",
       " 'while']"
      ]
     },
     "execution_count": 56,
     "metadata": {},
     "output_type": "execute_result"
    }
   ],
   "source": [
    "vec.get_feature_names()"
   ]
  },
  {
   "cell_type": "code",
   "execution_count": 57,
   "id": "608ede5b",
   "metadata": {},
   "outputs": [
    {
     "data": {
      "text/plain": [
       "{'this': 37,\n",
       " 'recipe': 27,\n",
       " 'is': 13,\n",
       " 'very': 40,\n",
       " 'special': 30,\n",
       " 'for': 8,\n",
       " 'cooking': 4,\n",
       " 'snacks': 28,\n",
       " 'like': 15,\n",
       " 'to': 38,\n",
       " 'cook': 3,\n",
       " 'but': 1,\n",
       " 'it': 14,\n",
       " 'usually': 39,\n",
       " 'takes': 35,\n",
       " 'longer': 16,\n",
       " 'my': 18,\n",
       " 'priorities': 24,\n",
       " 'in': 11,\n",
       " 'includes': 12,\n",
       " 'pastas': 22,\n",
       " 'and': 0,\n",
       " 'soup': 29,\n",
       " 'one': 21,\n",
       " 'need': 19,\n",
       " 'stay': 33,\n",
       " 'fit': 7,\n",
       " 'while': 41,\n",
       " 'playing': 23,\n",
       " 'professional': 25,\n",
       " 'sports': 31,\n",
       " 'important': 10,\n",
       " 'sportsmen': 32,\n",
       " 'take': 34,\n",
       " 'care': 2,\n",
       " 'of': 20,\n",
       " 'their': 36,\n",
       " 'diet': 6,\n",
       " 'professionl': 26,\n",
       " 'demand': 5,\n",
       " 'lot': 17,\n",
       " 'hardwork': 9}"
      ]
     },
     "execution_count": 57,
     "metadata": {},
     "output_type": "execute_result"
    }
   ],
   "source": [
    "vec.vocabulary_"
   ]
  },
  {
   "cell_type": "code",
   "execution_count": null,
   "id": "6f54f064",
   "metadata": {},
   "outputs": [],
   "source": []
  }
 ],
 "metadata": {
  "kernelspec": {
   "display_name": "Python 3 (ipykernel)",
   "language": "python",
   "name": "python3"
  },
  "language_info": {
   "codemirror_mode": {
    "name": "ipython",
    "version": 3
   },
   "file_extension": ".py",
   "mimetype": "text/x-python",
   "name": "python",
   "nbconvert_exporter": "python",
   "pygments_lexer": "ipython3",
   "version": "3.9.13"
  }
 },
 "nbformat": 4,
 "nbformat_minor": 5
}
