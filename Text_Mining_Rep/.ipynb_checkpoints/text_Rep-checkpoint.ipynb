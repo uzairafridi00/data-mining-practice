{
 "cells": [
  {
   "cell_type": "code",
   "execution_count": 16,
   "id": "edfda229",
   "metadata": {},
   "outputs": [],
   "source": [
    "from sklearn.feature_extraction.text import CountVectorizer"
   ]
  },
  {
   "cell_type": "code",
   "execution_count": 17,
   "id": "8ca3206b",
   "metadata": {},
   "outputs": [],
   "source": [
    "corpus = ['Text Mining is difficult',\n",
    "       'Text Mining is useful for NLP projects',\n",
    "       'Text Mining and Data Mining are two different things']"
   ]
  },
  {
   "cell_type": "code",
   "execution_count": 18,
   "id": "a692c634",
   "metadata": {},
   "outputs": [],
   "source": [
    "vec = CountVectorizer()"
   ]
  },
  {
   "cell_type": "code",
   "execution_count": 19,
   "id": "23cc1b85",
   "metadata": {},
   "outputs": [],
   "source": [
    "X = vec.fit_transform(corpus)"
   ]
  },
  {
   "cell_type": "code",
   "execution_count": 20,
   "id": "8fa6a0ce",
   "metadata": {},
   "outputs": [
    {
     "data": {
      "text/plain": [
       "<3x14 sparse matrix of type '<class 'numpy.int64'>'\n",
       "\twith 19 stored elements in Compressed Sparse Row format>"
      ]
     },
     "execution_count": 20,
     "metadata": {},
     "output_type": "execute_result"
    }
   ],
   "source": [
    "X"
   ]
  },
  {
   "cell_type": "code",
   "execution_count": 21,
   "id": "6ba174fe",
   "metadata": {},
   "outputs": [
    {
     "data": {
      "text/plain": [
       "array([[0, 0, 0, 0, 1, 0, 1, 1, 0, 0, 1, 0, 0, 0],\n",
       "       [0, 0, 0, 0, 0, 1, 1, 1, 1, 1, 1, 0, 0, 1],\n",
       "       [1, 1, 1, 1, 0, 0, 0, 2, 0, 0, 1, 1, 1, 0]], dtype=int64)"
      ]
     },
     "execution_count": 21,
     "metadata": {},
     "output_type": "execute_result"
    }
   ],
   "source": [
    "X.toarray()"
   ]
  },
  {
   "cell_type": "code",
   "execution_count": 14,
   "id": "3e03cfe9",
   "metadata": {},
   "outputs": [
    {
     "data": {
      "text/plain": [
       "['and',\n",
       " 'are',\n",
       " 'data',\n",
       " 'different',\n",
       " 'difficult',\n",
       " 'for',\n",
       " 'is',\n",
       " 'mining',\n",
       " 'nlp',\n",
       " 'projects',\n",
       " 'text',\n",
       " 'things',\n",
       " 'two',\n",
       " 'useful']"
      ]
     },
     "execution_count": 14,
     "metadata": {},
     "output_type": "execute_result"
    }
   ],
   "source": [
    "vec.get_feature_names()"
   ]
  },
  {
   "cell_type": "code",
   "execution_count": 22,
   "id": "a2908c9d",
   "metadata": {},
   "outputs": [
    {
     "data": {
      "text/plain": [
       "{'text': 10,\n",
       " 'mining': 7,\n",
       " 'is': 6,\n",
       " 'difficult': 4,\n",
       " 'useful': 13,\n",
       " 'for': 5,\n",
       " 'nlp': 8,\n",
       " 'projects': 9,\n",
       " 'and': 0,\n",
       " 'data': 2,\n",
       " 'are': 1,\n",
       " 'two': 12,\n",
       " 'different': 3,\n",
       " 'things': 11}"
      ]
     },
     "execution_count": 22,
     "metadata": {},
     "output_type": "execute_result"
    }
   ],
   "source": [
    "vec.vocabulary_"
   ]
  },
  {
   "cell_type": "code",
   "execution_count": null,
   "id": "323537cb",
   "metadata": {},
   "outputs": [],
   "source": []
  }
 ],
 "metadata": {
  "kernelspec": {
   "display_name": "Python 3 (ipykernel)",
   "language": "python",
   "name": "python3"
  },
  "language_info": {
   "codemirror_mode": {
    "name": "ipython",
    "version": 3
   },
   "file_extension": ".py",
   "mimetype": "text/x-python",
   "name": "python",
   "nbconvert_exporter": "python",
   "pygments_lexer": "ipython3",
   "version": "3.9.13"
  }
 },
 "nbformat": 4,
 "nbformat_minor": 5
}
