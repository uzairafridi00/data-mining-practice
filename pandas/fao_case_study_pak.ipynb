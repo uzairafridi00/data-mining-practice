{
 "cells": [
  {
   "cell_type": "code",
   "execution_count": 1,
   "id": "4ca244d2",
   "metadata": {},
   "outputs": [],
   "source": [
    "import numpy as np\n",
    "import pandas as pd"
   ]
  },
  {
   "cell_type": "code",
   "execution_count": 4,
   "id": "ce86878c",
   "metadata": {},
   "outputs": [
    {
     "data": {
      "text/html": [
       "<div>\n",
       "<style scoped>\n",
       "    .dataframe tbody tr th:only-of-type {\n",
       "        vertical-align: middle;\n",
       "    }\n",
       "\n",
       "    .dataframe tbody tr th {\n",
       "        vertical-align: top;\n",
       "    }\n",
       "\n",
       "    .dataframe thead th {\n",
       "        text-align: right;\n",
       "    }\n",
       "</style>\n",
       "<table border=\"1\" class=\"dataframe\">\n",
       "  <thead>\n",
       "    <tr style=\"text-align: right;\">\n",
       "      <th></th>\n",
       "      <th>Domain Code</th>\n",
       "      <th>Domain</th>\n",
       "      <th>Area Code (M49)</th>\n",
       "      <th>Area</th>\n",
       "      <th>Element Code</th>\n",
       "      <th>Element</th>\n",
       "      <th>Item Code (CPC)</th>\n",
       "      <th>Item</th>\n",
       "      <th>Year Code</th>\n",
       "      <th>Year</th>\n",
       "      <th>Unit</th>\n",
       "      <th>Value</th>\n",
       "      <th>Flag</th>\n",
       "      <th>Flag Description</th>\n",
       "    </tr>\n",
       "  </thead>\n",
       "  <tbody>\n",
       "    <tr>\n",
       "      <th>0</th>\n",
       "      <td>QCL</td>\n",
       "      <td>Crops and livestock products</td>\n",
       "      <td>586</td>\n",
       "      <td>Pakistan</td>\n",
       "      <td>5312</td>\n",
       "      <td>Area harvested</td>\n",
       "      <td>01371</td>\n",
       "      <td>Almonds, in shell</td>\n",
       "      <td>2000</td>\n",
       "      <td>2000</td>\n",
       "      <td>ha</td>\n",
       "      <td>10732.0</td>\n",
       "      <td>A</td>\n",
       "      <td>Official figure</td>\n",
       "    </tr>\n",
       "    <tr>\n",
       "      <th>1</th>\n",
       "      <td>QCL</td>\n",
       "      <td>Crops and livestock products</td>\n",
       "      <td>586</td>\n",
       "      <td>Pakistan</td>\n",
       "      <td>5312</td>\n",
       "      <td>Area harvested</td>\n",
       "      <td>01371</td>\n",
       "      <td>Almonds, in shell</td>\n",
       "      <td>2001</td>\n",
       "      <td>2001</td>\n",
       "      <td>ha</td>\n",
       "      <td>10984.0</td>\n",
       "      <td>A</td>\n",
       "      <td>Official figure</td>\n",
       "    </tr>\n",
       "    <tr>\n",
       "      <th>2</th>\n",
       "      <td>QCL</td>\n",
       "      <td>Crops and livestock products</td>\n",
       "      <td>586</td>\n",
       "      <td>Pakistan</td>\n",
       "      <td>5312</td>\n",
       "      <td>Area harvested</td>\n",
       "      <td>01371</td>\n",
       "      <td>Almonds, in shell</td>\n",
       "      <td>2002</td>\n",
       "      <td>2002</td>\n",
       "      <td>ha</td>\n",
       "      <td>9560.0</td>\n",
       "      <td>A</td>\n",
       "      <td>Official figure</td>\n",
       "    </tr>\n",
       "    <tr>\n",
       "      <th>3</th>\n",
       "      <td>QCL</td>\n",
       "      <td>Crops and livestock products</td>\n",
       "      <td>586</td>\n",
       "      <td>Pakistan</td>\n",
       "      <td>5312</td>\n",
       "      <td>Area harvested</td>\n",
       "      <td>01371</td>\n",
       "      <td>Almonds, in shell</td>\n",
       "      <td>2003</td>\n",
       "      <td>2003</td>\n",
       "      <td>ha</td>\n",
       "      <td>9231.0</td>\n",
       "      <td>A</td>\n",
       "      <td>Official figure</td>\n",
       "    </tr>\n",
       "    <tr>\n",
       "      <th>4</th>\n",
       "      <td>QCL</td>\n",
       "      <td>Crops and livestock products</td>\n",
       "      <td>586</td>\n",
       "      <td>Pakistan</td>\n",
       "      <td>5312</td>\n",
       "      <td>Area harvested</td>\n",
       "      <td>01371</td>\n",
       "      <td>Almonds, in shell</td>\n",
       "      <td>2004</td>\n",
       "      <td>2004</td>\n",
       "      <td>ha</td>\n",
       "      <td>10120.0</td>\n",
       "      <td>A</td>\n",
       "      <td>Official figure</td>\n",
       "    </tr>\n",
       "  </tbody>\n",
       "</table>\n",
       "</div>"
      ],
      "text/plain": [
       "  Domain Code                        Domain  Area Code (M49)      Area  \\\n",
       "0         QCL  Crops and livestock products              586  Pakistan   \n",
       "1         QCL  Crops and livestock products              586  Pakistan   \n",
       "2         QCL  Crops and livestock products              586  Pakistan   \n",
       "3         QCL  Crops and livestock products              586  Pakistan   \n",
       "4         QCL  Crops and livestock products              586  Pakistan   \n",
       "\n",
       "   Element Code         Element Item Code (CPC)               Item  Year Code  \\\n",
       "0          5312  Area harvested           01371  Almonds, in shell       2000   \n",
       "1          5312  Area harvested           01371  Almonds, in shell       2001   \n",
       "2          5312  Area harvested           01371  Almonds, in shell       2002   \n",
       "3          5312  Area harvested           01371  Almonds, in shell       2003   \n",
       "4          5312  Area harvested           01371  Almonds, in shell       2004   \n",
       "\n",
       "   Year Unit    Value Flag Flag Description  \n",
       "0  2000   ha  10732.0    A  Official figure  \n",
       "1  2001   ha  10984.0    A  Official figure  \n",
       "2  2002   ha   9560.0    A  Official figure  \n",
       "3  2003   ha   9231.0    A  Official figure  \n",
       "4  2004   ha  10120.0    A  Official figure  "
      ]
     },
     "execution_count": 4,
     "metadata": {},
     "output_type": "execute_result"
    }
   ],
   "source": [
    "fao = pd.read_csv('datasets/FAOSTAT_data_pak.csv')\n",
    "fao.head()"
   ]
  },
  {
   "cell_type": "code",
   "execution_count": 5,
   "id": "fb64ee23",
   "metadata": {},
   "outputs": [
    {
     "data": {
      "text/plain": [
       "Value    1.836714e+06\n",
       "dtype: float64"
      ]
     },
     "execution_count": 5,
     "metadata": {},
     "output_type": "execute_result"
    }
   ],
   "source": [
    "fao[['Value']].mean()"
   ]
  },
  {
   "cell_type": "code",
   "execution_count": 9,
   "id": "155a9c7e",
   "metadata": {},
   "outputs": [
    {
     "data": {
      "text/plain": [
       "Item                                         \n",
       "Hen eggs in shell, fresh                         110\n",
       "Eggs from other birds in shell, fresh, n.e.c.    110\n",
       "Almonds, in shell                                 66\n",
       "Other beans, green                                66\n",
       "Pears                                             66\n",
       "                                                ... \n",
       "Buttermilk, dry                                   18\n",
       "Oil of sesame seed                                18\n",
       "Butter of cow milk                                13\n",
       "Whole milk, condensed                             13\n",
       "Butter of buffalo milk                            11\n",
       "Length: 140, dtype: int64"
      ]
     },
     "execution_count": 9,
     "metadata": {},
     "output_type": "execute_result"
    }
   ],
   "source": [
    "fao.value_counts(['Item'])"
   ]
  },
  {
   "cell_type": "code",
   "execution_count": 11,
   "id": "ca20dec1",
   "metadata": {},
   "outputs": [
    {
     "data": {
      "text/plain": [
       "<pandas.core.groupby.generic.DataFrameGroupBy object at 0x00000189C8970E80>"
      ]
     },
     "execution_count": 11,
     "metadata": {},
     "output_type": "execute_result"
    }
   ],
   "source": [
    "fao.groupby(['Domain Code'])"
   ]
  },
  {
   "cell_type": "code",
   "execution_count": null,
   "id": "0b5b252d",
   "metadata": {},
   "outputs": [],
   "source": []
  }
 ],
 "metadata": {
  "kernelspec": {
   "display_name": "Python 3 (ipykernel)",
   "language": "python",
   "name": "python3"
  },
  "language_info": {
   "codemirror_mode": {
    "name": "ipython",
    "version": 3
   },
   "file_extension": ".py",
   "mimetype": "text/x-python",
   "name": "python",
   "nbconvert_exporter": "python",
   "pygments_lexer": "ipython3",
   "version": "3.9.13"
  }
 },
 "nbformat": 4,
 "nbformat_minor": 5
}
